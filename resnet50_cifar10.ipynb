{
 "cells": [
  {
   "cell_type": "code",
   "execution_count": 2,
   "metadata": {},
   "outputs": [],
   "source": [
    "import tensorflow as tf\n",
    "import keras\n",
    "from keras import models\n",
    "import numpy as np\n",
    "from keract import get_activations\n",
    "from pymoo.algorithms.moo.nsga2 import NSGA2\n",
    "from pymoo.optimize import minimize\n",
    "from pymoo.operators.sampling.rnd import FloatRandomSampling\n",
    "from pymoo.operators.mutation.pm import PolynomialMutation\n",
    "from pymoo.operators.crossover.sbx import SBX\n",
    "from pymoo.core.problem import Problem, ElementwiseProblem\n",
    "import random as rng\n",
    "import pandas as pd\n",
    "import matplotlib.pyplot as pyplot"
   ]
  },
  {
   "cell_type": "code",
   "execution_count": 3,
   "metadata": {},
   "outputs": [],
   "source": [
    "(x_train, y_train), (x_test, y_test) = keras.datasets.cifar10.load_data()\n",
    "\n",
    "y_train = keras.utils.to_categorical(y_train, num_classes=10)\n",
    "y_test = keras.utils.to_categorical(y_test, num_classes=10)"
   ]
  },
  {
   "cell_type": "code",
   "execution_count": 4,
   "metadata": {},
   "outputs": [],
   "source": [
    "input = tf.keras.Input(shape=(32, 32, 3))\n",
    "\n",
    "efnet = tf.keras.applications.ResNet50(weights='imagenet',\n",
    "                                             include_top = False, \n",
    "                                             input_tensor = input)\n",
    "# Now that we apply global max pooling.\n",
    "gap = tf.keras.layers.GlobalMaxPooling2D()(efnet.output)\n",
    "\n",
    "# Finally, we add a classification layer.\n",
    "output = tf.keras.layers.Dense(10, activation='softmax', use_bias=True)(gap)\n",
    "\n",
    "# bind all\n",
    "func_model = tf.keras.Model(efnet.input, output)"
   ]
  },
  {
   "cell_type": "code",
   "execution_count": 5,
   "metadata": {},
   "outputs": [
    {
     "name": "stdout",
     "output_type": "stream",
     "text": [
      "Epoch 1/10\n",
      "391/391 - 648s - loss: 1.2547 - categorical_accuracy: 0.6057 - 648s/epoch - 2s/step\n",
      "Epoch 2/10\n",
      "391/391 - 738s - loss: 1.1031 - categorical_accuracy: 0.6609 - 738s/epoch - 2s/step\n",
      "Epoch 3/10\n",
      "391/391 - 769s - loss: 0.9545 - categorical_accuracy: 0.6872 - 769s/epoch - 2s/step\n",
      "Epoch 4/10\n",
      "391/391 - 766s - loss: 0.6207 - categorical_accuracy: 0.7855 - 766s/epoch - 2s/step\n",
      "Epoch 5/10\n",
      "391/391 - 729s - loss: 0.4779 - categorical_accuracy: 0.8347 - 729s/epoch - 2s/step\n",
      "Epoch 6/10\n",
      "391/391 - 659s - loss: 0.3887 - categorical_accuracy: 0.8661 - 659s/epoch - 2s/step\n",
      "Epoch 7/10\n",
      "391/391 - 653s - loss: 0.3316 - categorical_accuracy: 0.8857 - 653s/epoch - 2s/step\n",
      "Epoch 8/10\n",
      "391/391 - 653s - loss: 0.5082 - categorical_accuracy: 0.8414 - 653s/epoch - 2s/step\n",
      "Epoch 9/10\n",
      "391/391 - 651s - loss: 0.9449 - categorical_accuracy: 0.7006 - 651s/epoch - 2s/step\n",
      "Epoch 10/10\n",
      "391/391 - 655s - loss: 0.6558 - categorical_accuracy: 0.7843 - 655s/epoch - 2s/step\n"
     ]
    },
    {
     "data": {
      "text/plain": [
       "<keras.callbacks.History at 0x14aba480c10>"
      ]
     },
     "execution_count": 5,
     "metadata": {},
     "output_type": "execute_result"
    }
   ],
   "source": [
    "func_model.compile(\n",
    "          loss  = keras.losses.CategoricalCrossentropy(),\n",
    "          metrics = keras.metrics.CategoricalAccuracy(),\n",
    "          optimizer = keras.optimizers.Adam())\n",
    "# fit \n",
    "func_model.fit(x_train, y_train, batch_size=128, epochs=10, verbose = 2)"
   ]
  },
  {
   "cell_type": "code",
   "execution_count": 4,
   "metadata": {},
   "outputs": [],
   "source": [
    "# func_model.save('resnet50_cifar10')\n",
    "\n",
    "model = keras.models.load_model('resnet50_cifar10')"
   ]
  },
  {
   "cell_type": "code",
   "execution_count": 5,
   "metadata": {},
   "outputs": [
    {
     "name": "stdout",
     "output_type": "stream",
     "text": [
      "NAC:  0.8558017900159457\n"
     ]
    }
   ],
   "source": [
    "def Neuron_Activation_Coverage(model, input_img):\n",
    "    \n",
    "    if len(input_img.shape) < 4:\n",
    "        input_img = np.expand_dims(input_img, axis=0)\n",
    "\n",
    "    activations = get_activations(model, input_img, auto_compile=True)\n",
    "    del activations[\"input_1\"]\n",
    "\n",
    "    total_nodes = 0\n",
    "    non_zeros = 0\n",
    "    for value in activations.values():\n",
    "        total_nodes += value.size\n",
    "        non_zeros += np.count_nonzero(value)\n",
    "\n",
    "    return non_zeros / total_nodes\n",
    "\n",
    "nac = Neuron_Activation_Coverage(model, x_test[0])\n",
    "\n",
    "print(\"NAC: \", nac)"
   ]
  },
  {
   "cell_type": "code",
   "execution_count": 17,
   "metadata": {},
   "outputs": [],
   "source": [
    "class NCMax(ElementwiseProblem):\n",
    "    def __init__(self, input_img):\n",
    "        super().__init__(\n",
    "            n_var=784, n_obj=1, n_constr=0, xl=0, xu=255)\n",
    "        self.input_img = input_img\n",
    "    \n",
    "    def _evaluate(self, x, out, *args, **kwargs):\n",
    "        x = np.reshape(x, (28, 28, 1))\n",
    "        x = np.repeat(x, 3, axis=-1)\n",
    "        x = tf.image.resize(x, [32, 32])\n",
    "        perturbed_img = self.input_img + x\n",
    "        nc = Neuron_Activation_Coverage(model, perturbed_img)\n",
    "        ret_val = 1.0 / nc\n",
    "        out[\"F\"] = ret_val\n",
    "\n",
    "alg = NSGA2(pop_size = 30, offsprings=30,\n",
    "            sampling=FloatRandomSampling(),\n",
    "            crossovers=SBX(),\n",
    "            mutation=PolynomialMutation(),)\n",
    "\n",
    "challenging_images = np.zeros(shape=(10000, 32, 32, 3))\n",
    "\n",
    "random_indexes = rng.sample(range(0, 10000), 100)\n",
    "\n",
    "for i in range(0, 1):\n",
    "    problem = NCMax(x_test[random_indexes[i]])\n",
    "    \n",
    "    res = minimize(problem, alg, (\"n_gen\", 50))\n",
    "    if res.X.size > 784:\n",
    "        noise = np.reshape(res.X[0], (28, 28, 1))\n",
    "        noise = np.repeat(noise, 3, axis=-1)\n",
    "        noise = tf.image.resize(noise, [32, 32])\n",
    "    else:\n",
    "        noise = np.reshape(res.X, (28, 28, 1))\n",
    "        noise = np.repeat(noise, 3, axis=-1)\n",
    "        noise = tf.image.resize(noise, [32, 32])\n",
    "\n",
    "    challenging_img = x_test[random_indexes[i]] + noise\n",
    "    challenging_images[i] = challenging_img"
   ]
  },
  {
   "cell_type": "code",
   "execution_count": 18,
   "metadata": {},
   "outputs": [
    {
     "name": "stdout",
     "output_type": "stream",
     "text": [
      "   Normal Images  Challenging Images  Absolute Increase  Relative Increase\n",
      "0       0.857398            0.851713          -0.005685           -0.00663\n"
     ]
    }
   ],
   "source": [
    "x_test_nacs = []\n",
    "challenging_images_nacs = []\n",
    "absolute_increase = []\n",
    "relative_increase = []\n",
    "\n",
    "for i in range(0, 1):\n",
    "    pre_NSGA = Neuron_Activation_Coverage(model, x_test[random_indexes[i]])\n",
    "    post_NSGA = Neuron_Activation_Coverage(model, challenging_images[i])\n",
    "    x_test_nacs.append(pre_NSGA)\n",
    "    challenging_images_nacs.append(post_NSGA)\n",
    "    absolute_increase.append(post_NSGA - pre_NSGA)\n",
    "    relative_increase.append((post_NSGA - pre_NSGA) / pre_NSGA)\n",
    "\n",
    "dataset = {\n",
    "    \"Normal Images\": x_test_nacs,\n",
    "    \"Challenging Images\": challenging_images_nacs,\n",
    "    \"Absolute Increase\": absolute_increase,\n",
    "    \"Relative Increase\": relative_increase\n",
    "}\n",
    "\n",
    "table = pd.DataFrame(dataset)\n",
    "\n",
    "print(table)\n",
    "\n",
    "# table.index += 1\n",
    "\n",
    "# table.to_excel(\"temp.xlsx\")"
   ]
  },
  {
   "cell_type": "code",
   "execution_count": 19,
   "metadata": {},
   "outputs": [
    {
     "data": {
      "image/png": "[encoded data removed]",
      "text/plain": [
       "<Figure size 640x480 with 1 Axes>"
      ]
     },
     "metadata": {},
     "output_type": "display_data"
    },
    {
     "data": {
      "image/png": "[encoded data removed]",
      "text/plain": [
       "<Figure size 640x480 with 1 Axes>"
      ]
     },
     "metadata": {},
     "output_type": "display_data"
    }
   ],
   "source": [
    "pyplot.subplot(330 + 1)\n",
    "pyplot.imshow(challenging_images[0].astype('uint8'), cmap=pyplot.get_cmap('gray'))\n",
    "pyplot.show()\n",
    "\n",
    "pyplot.subplot(330 + 1)\n",
    "pyplot.imshow(x_test[random_indexes[0]], cmap=pyplot.get_cmap('gray'))\n",
    "pyplot.show()"
   ]
  }
 ],
 "metadata": {
  "kernelspec": {
   "display_name": "Python 3",
   "language": "python",
   "name": "python3"
  },
  "language_info": {
   "codemirror_mode": {
    "name": "ipython",
    "version": 3
   },
   "file_extension": ".py",
   "mimetype": "text/x-python",
   "name": "python",
   "nbconvert_exporter": "python",
   "pygments_lexer": "ipython3",
   "version": "3.10.9"
  },
  "orig_nbformat": 4,
  "vscode": {
   "interpreter": {
    "hash": "8b1dbd53e6c89629338dd6a41cab029ea9843e623d8a89070fefc79d18599eab"
   }
  }
 },
 "nbformat": 4,
 "nbformat_minor": 2
}
