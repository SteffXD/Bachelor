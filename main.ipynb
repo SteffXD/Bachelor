{
 "cells": [
  {
   "cell_type": "code",
   "execution_count": 1,
   "metadata": {},
   "outputs": [
    {
     "name": "stderr",
     "output_type": "stream",
     "text": [
      "2023-01-23 11:56:23.399305: I tensorflow/core/platform/cpu_feature_guard.cc:193] This TensorFlow binary is optimized with oneAPI Deep Neural Network Library (oneDNN) to use the following CPU instructions in performance-critical operations:  AVX2 AVX512F AVX512_VNNI FMA\n",
      "To enable them in other operations, rebuild TensorFlow with the appropriate compiler flags.\n",
      "2023-01-23 11:56:34.577441: I tensorflow/core/util/util.cc:169] oneDNN custom operations are on. You may see slightly different numerical results due to floating-point round-off errors from different computation orders. To turn them off, set the environment variable `TF_ENABLE_ONEDNN_OPTS=0`.\n",
      "2023-01-23 11:56:38.115245: W tensorflow/stream_executor/platform/default/dso_loader.cc:64] Could not load dynamic library 'libcudart.so.11.0'; dlerror: libcudart.so.11.0: cannot open shared object file: No such file or directory\n",
      "2023-01-23 11:56:38.115276: I tensorflow/stream_executor/cuda/cudart_stub.cc:29] Ignore above cudart dlerror if you do not have a GPU set up on your machine.\n",
      "2023-01-23 11:56:39.503134: E tensorflow/stream_executor/cuda/cuda_blas.cc:2981] Unable to register cuBLAS factory: Attempting to register factory for plugin cuBLAS when one has already been registered\n",
      "2023-01-23 11:57:00.137401: W tensorflow/stream_executor/platform/default/dso_loader.cc:64] Could not load dynamic library 'libnvinfer.so.7'; dlerror: libnvinfer.so.7: cannot open shared object file: No such file or directory\n",
      "2023-01-23 11:57:00.137461: W tensorflow/stream_executor/platform/default/dso_loader.cc:64] Could not load dynamic library 'libnvinfer_plugin.so.7'; dlerror: libnvinfer_plugin.so.7: cannot open shared object file: No such file or directory\n",
      "2023-01-23 11:57:00.137468: W tensorflow/compiler/tf2tensorrt/utils/py_utils.cc:38] TF-TRT Warning: Cannot dlopen some TensorRT libraries. If you would like to use Nvidia GPU with TensorRT, please make sure the missing libraries mentioned above are installed properly.\n"
     ]
    }
   ],
   "source": [
    "import numpy as np\n",
    "from tensorflow import keras\n",
    "from tensorflow.keras import layers\n"
   ]
  },
  {
   "cell_type": "code",
   "execution_count": 2,
   "metadata": {},
   "outputs": [
    {
     "name": "stdout",
     "output_type": "stream",
     "text": [
      "x_train shape: (60000, 28, 28, 1)\n",
      "60000 train samples\n",
      "10000 test samples\n"
     ]
    }
   ],
   "source": [
    "# Model / data parameters\n",
    "num_classes = 10\n",
    "input_shape = (28, 28, 1)\n",
    "\n",
    "# Load the data and split it between train and test sets\n",
    "(x_train, y_train), (x_test, y_test) = keras.datasets.mnist.load_data()\n",
    "\n",
    "# Scale images to the [0, 1] range\n",
    "x_train = x_train.astype(\"float32\") / 255\n",
    "x_test = x_test.astype(\"float32\") / 255\n",
    "# Make sure images have shape (28, 28, 1)\n",
    "x_train = np.expand_dims(x_train, -1)\n",
    "x_test = np.expand_dims(x_test, -1)\n",
    "print(\"x_train shape:\", x_train.shape)\n",
    "print(x_train.shape[0], \"train samples\")\n",
    "print(x_test.shape[0], \"test samples\")\n",
    "\n",
    "\n",
    "# convert class vectors to binary class matrices\n",
    "y_train = keras.utils.to_categorical(y_train, num_classes)\n",
    "y_test = keras.utils.to_categorical(y_test, num_classes)\n"
   ]
  },
  {
   "cell_type": "code",
   "execution_count": 3,
   "metadata": {},
   "outputs": [
    {
     "name": "stdout",
     "output_type": "stream",
     "text": [
      "Model: \"sequential\"\n",
      "_________________________________________________________________\n",
      " Layer (type)                Output Shape              Param #   \n",
      "=================================================================\n",
      " conv2d (Conv2D)             (None, 26, 26, 32)        320       \n",
      "                                                                 \n",
      " max_pooling2d (MaxPooling2D  (None, 13, 13, 32)       0         \n",
      " )                                                               \n",
      "                                                                 \n",
      " conv2d_1 (Conv2D)           (None, 11, 11, 64)        18496     \n",
      "                                                                 \n",
      " max_pooling2d_1 (MaxPooling  (None, 5, 5, 64)         0         \n",
      " 2D)                                                             \n",
      "                                                                 \n",
      " flatten (Flatten)           (None, 1600)              0         \n",
      "                                                                 \n",
      " dropout (Dropout)           (None, 1600)              0         \n",
      "                                                                 \n",
      " dense (Dense)               (None, 10)                16010     \n",
      "                                                                 \n",
      "=================================================================\n",
      "Total params: 34,826\n",
      "Trainable params: 34,826\n",
      "Non-trainable params: 0\n",
      "_________________________________________________________________\n"
     ]
    },
    {
     "name": "stderr",
     "output_type": "stream",
     "text": [
      "2023-01-23 11:57:01.649149: W tensorflow/stream_executor/platform/default/dso_loader.cc:64] Could not load dynamic library 'libcuda.so.1'; dlerror: libcuda.so.1: cannot open shared object file: No such file or directory\n",
      "2023-01-23 11:57:01.649343: W tensorflow/stream_executor/cuda/cuda_driver.cc:263] failed call to cuInit: UNKNOWN ERROR (303)\n",
      "2023-01-23 11:57:01.649362: I tensorflow/stream_executor/cuda/cuda_diagnostics.cc:156] kernel driver does not appear to be running on this host (lolol-Yoga-7-15ITL5): /proc/driver/nvidia/version does not exist\n",
      "2023-01-23 11:57:01.649767: I tensorflow/core/platform/cpu_feature_guard.cc:193] This TensorFlow binary is optimized with oneAPI Deep Neural Network Library (oneDNN) to use the following CPU instructions in performance-critical operations:  AVX2 AVX512F AVX512_VNNI FMA\n",
      "To enable them in other operations, rebuild TensorFlow with the appropriate compiler flags.\n"
     ]
    }
   ],
   "source": [
    "model = keras.Sequential(\n",
    "    [\n",
    "        keras.Input(shape=input_shape),\n",
    "        layers.Conv2D(32, kernel_size=(3, 3), activation=\"relu\"),\n",
    "        layers.MaxPooling2D(pool_size=(2, 2)),\n",
    "        layers.Conv2D(64, kernel_size=(3, 3), activation=\"relu\"),\n",
    "        layers.MaxPooling2D(pool_size=(2, 2)),\n",
    "        layers.Flatten(),\n",
    "        layers.Dropout(0.5),\n",
    "        layers.Dense(num_classes, activation=\"softmax\"),\n",
    "    ]\n",
    ")\n",
    "\n",
    "model.summary()\n"
   ]
  },
  {
   "cell_type": "code",
   "execution_count": 4,
   "metadata": {},
   "outputs": [
    {
     "name": "stdout",
     "output_type": "stream",
     "text": [
      "Epoch 1/15\n",
      "422/422 [==============================] - 9s 19ms/step - loss: 0.3589 - accuracy: 0.8914 - val_loss: 0.0762 - val_accuracy: 0.9788\n",
      "Epoch 2/15\n",
      "422/422 [==============================] - 7s 17ms/step - loss: 0.1083 - accuracy: 0.9669 - val_loss: 0.0556 - val_accuracy: 0.9848\n",
      "Epoch 3/15\n",
      "422/422 [==============================] - 7s 17ms/step - loss: 0.0827 - accuracy: 0.9745 - val_loss: 0.0508 - val_accuracy: 0.9848\n",
      "Epoch 4/15\n",
      "422/422 [==============================] - 7s 17ms/step - loss: 0.0700 - accuracy: 0.9781 - val_loss: 0.0423 - val_accuracy: 0.9885\n",
      "Epoch 5/15\n",
      "422/422 [==============================] - 7s 18ms/step - loss: 0.0613 - accuracy: 0.9807 - val_loss: 0.0373 - val_accuracy: 0.9890\n",
      "Epoch 6/15\n",
      "422/422 [==============================] - 7s 17ms/step - loss: 0.0547 - accuracy: 0.9829 - val_loss: 0.0324 - val_accuracy: 0.9915\n",
      "Epoch 7/15\n",
      "422/422 [==============================] - 7s 18ms/step - loss: 0.0530 - accuracy: 0.9835 - val_loss: 0.0335 - val_accuracy: 0.9907\n",
      "Epoch 8/15\n",
      "422/422 [==============================] - 7s 18ms/step - loss: 0.0473 - accuracy: 0.9844 - val_loss: 0.0388 - val_accuracy: 0.9887\n",
      "Epoch 9/15\n",
      "422/422 [==============================] - 7s 17ms/step - loss: 0.0453 - accuracy: 0.9852 - val_loss: 0.0323 - val_accuracy: 0.9908\n",
      "Epoch 10/15\n",
      "422/422 [==============================] - 7s 17ms/step - loss: 0.0421 - accuracy: 0.9863 - val_loss: 0.0332 - val_accuracy: 0.9908\n",
      "Epoch 11/15\n",
      "422/422 [==============================] - 7s 18ms/step - loss: 0.0390 - accuracy: 0.9872 - val_loss: 0.0304 - val_accuracy: 0.9915\n",
      "Epoch 12/15\n",
      "422/422 [==============================] - 7s 17ms/step - loss: 0.0372 - accuracy: 0.9885 - val_loss: 0.0300 - val_accuracy: 0.9918\n",
      "Epoch 13/15\n",
      "422/422 [==============================] - 7s 17ms/step - loss: 0.0367 - accuracy: 0.9884 - val_loss: 0.0318 - val_accuracy: 0.9920\n",
      "Epoch 14/15\n",
      "422/422 [==============================] - 7s 17ms/step - loss: 0.0338 - accuracy: 0.9893 - val_loss: 0.0317 - val_accuracy: 0.9900\n",
      "Epoch 15/15\n",
      "422/422 [==============================] - 7s 17ms/step - loss: 0.0332 - accuracy: 0.9888 - val_loss: 0.0283 - val_accuracy: 0.9925\n"
     ]
    },
    {
     "data": {
      "text/plain": [
       "<keras.callbacks.History at 0x7f96451a7b50>"
      ]
     },
     "execution_count": 4,
     "metadata": {},
     "output_type": "execute_result"
    }
   ],
   "source": [
    "batch_size = 128\n",
    "epochs = 15\n",
    "\n",
    "model.compile(loss=\"categorical_crossentropy\", optimizer=\"adam\", metrics=[\"accuracy\"])\n",
    "\n",
    "model.fit(x_train, y_train, batch_size=batch_size, epochs=epochs, validation_split=0.1)\n"
   ]
  },
  {
   "cell_type": "code",
   "execution_count": 5,
   "metadata": {},
   "outputs": [
    {
     "name": "stdout",
     "output_type": "stream",
     "text": [
      "NAC:  0.2580694044552205\n"
     ]
    }
   ],
   "source": [
    "score = model.evaluate(x_test, y_test, verbose=0)\n",
    "\n",
    "from keras import backend as K\n",
    "from keract import get_activations, display_activations\n",
    "\n",
    "\n",
    "# nodes = 0\n",
    "# non_zero_nodes = 0\n",
    "\n",
    "# for n in range(0, len(model.layers)):\n",
    "#     get_nth_layer_output = K.function([model.layers[0].input], [model.layers[n].output])\n",
    "#     layer_output = get_nth_layer_output([x_test])[0]\n",
    "#     nodes += layer_output.size\n",
    "#     non_zero_nodes += np.count_nonzero(layer_output)\n",
    "\n",
    "\n",
    "# neuron_coverage = non_zero_nodes / nodes\n",
    "\n",
    "# print(\"Neuron coverage:\", neuron_coverage)\n",
    "\n",
    "#******************************************************************************************************************#\n",
    "#******************************************************************************************************************#\n",
    "#******************************************************************************************************************#\n",
    "#******************************************************************************************************************#\n",
    "\n",
    "def Neuron_Activation_Coverage(model, input_img):\n",
    "    \n",
    "    if len(input_img.shape) < 4:\n",
    "        input_img = np.expand_dims(input_img, axis=0)\n",
    "\n",
    "    activations = get_activations(model, input_img, auto_compile=True)\n",
    "    del activations[\"input_1\"]\n",
    "\n",
    "    total_nodes = 0\n",
    "    non_zeros = 0\n",
    "    for value in activations.values():\n",
    "        total_nodes += value.size\n",
    "        non_zeros += np.count_nonzero(value)\n",
    "\n",
    "    return non_zeros / total_nodes\n",
    "\n",
    "nac = Neuron_Activation_Coverage(model, x_test[0])\n",
    "\n",
    "print(\"NAC: \", nac)\n",
    "    \n",
    "# [print(k, '->', v.shape, '- Numpy array') for (k, v) in activations.items()]\n",
    "\n",
    "# display_activations(activations, cmap=None, save=False, directory='.', data_format='channels_last', fig_size=(24, 24), reshape_1d_layers=False)\n"
   ]
  },
  {
   "cell_type": "code",
   "execution_count": 12,
   "metadata": {},
   "outputs": [
    {
     "name": "stdout",
     "output_type": "stream",
     "text": [
      "NAC for normal input:  0.27239884831035005\n",
      "NAC for challenging input:  0.46255164923978387\n"
     ]
    }
   ],
   "source": [
    "from pymoo.algorithms.moo.nsga2 import NSGA2\n",
    "from pymoo.optimize import minimize\n",
    "from pymoo.operators.sampling.rnd import FloatRandomSampling\n",
    "from pymoo.operators.mutation.pm import PolynomialMutation\n",
    "from pymoo.operators.crossover.sbx import SBX\n",
    "from pymoo.core.problem import Problem, ElementwiseProblem\n",
    "from matplotlib import pyplot\n",
    "import statistics\n",
    "\n",
    "class NCMax(ElementwiseProblem):\n",
    "    def __init__(self, input_img):\n",
    "        super().__init__(\n",
    "            n_var=784, n_obj=1, n_constr=0, xl=0.0, xu=1.0)\n",
    "        self.input_img = input_img\n",
    "    \n",
    "    def _evaluate(self, x, out, *args, **kwargs):\n",
    "        x = np.reshape(x, (28, 28, 1))\n",
    "        perturbed_img = self.input_img + x\n",
    "        nc = Neuron_Activation_Coverage(model, perturbed_img)\n",
    "        ret_val = 1.0 / nc\n",
    "        out[\"F\"] = ret_val\n",
    "\n",
    "challenging_images = np.zeros(shape=(10000, 28, 28, 1))\n",
    "\n",
    "alg = NSGA2(pop_size = 30, offsprings=30,\n",
    "            sampling=FloatRandomSampling(),\n",
    "            crossovers=SBX(),\n",
    "            mutation=PolynomialMutation(),)\n",
    "\n",
    "# test_index = 234\n",
    "\n",
    "# problem = NCMax(x_test[test_index])\n",
    "\n",
    "# res = minimize(problem, alg, (\"n_gen\", 5))\n",
    "\n",
    "# noise = np.reshape(res.X, (28, 28, 1))\n",
    "\n",
    "# challenging_img = x_test[test_index] + noise\n",
    "\n",
    "# nc1 = Neuron_Activation_Coverage(model, x_test[test_index])\n",
    "# nc2 = Neuron_Activation_Coverage(model, challenging_img)\n",
    "\n",
    "# print(\"NAC for normal input: \", nc1)\n",
    "# print(\"NAC for challenging input: \", nc2)\n",
    "\n",
    "for i in range(0, len(x_test) - 9900):\n",
    "    problem = NCMax(x_test[i])\n",
    "    \n",
    "    res = minimize(problem, alg, (\"n_gen\", 5))\n",
    "    if res.X.size > 784:\n",
    "        noise = np.reshape(res.X[0], (28, 28, 1))\n",
    "    else:\n",
    "        noise = np.reshape(res.X, (28, 28, 1))\n",
    "\n",
    "    challenging_img = x_test[i] + noise\n",
    "    challenging_images[i] = challenging_img\n",
    "\n",
    "x_test_nacs = []\n",
    "challenging_images_nacs = []\n",
    "\n",
    "for i in range(0, 100):\n",
    "    x_test_nacs.append(Neuron_Activation_Coverage(model, x_test[i]))\n",
    "    challenging_images_nacs.append(Neuron_Activation_Coverage(model, challenging_images[i]))\n",
    "\n",
    "nc1 = statistics.fmean(x_test_nacs)\n",
    "nc2 = statistics.fmean(challenging_images_nacs)\n",
    "\n",
    "print(\"NAC for normal input: \", nc1)\n",
    "print(\"NAC for challenging input: \", nc2)\n",
    "\n"
   ]
  },
  {
   "cell_type": "code",
   "execution_count": 13,
   "metadata": {},
   "outputs": [
    {
     "data": {
      "image/png": "[encoded data removed]",
      "text/plain": [
       "<Figure size 640x480 with 1 Axes>"
      ]
     },
     "metadata": {},
     "output_type": "display_data"
    },
    {
     "data": {
      "image/png": "[encoded data removed]",
      "text/plain": [
       "<Figure size 640x480 with 1 Axes>"
      ]
     },
     "metadata": {},
     "output_type": "display_data"
    },
    {
     "data": {
      "image/png": "[encoded data removed]",
      "text/plain": [
       "<Figure size 640x480 with 1 Axes>"
      ]
     },
     "metadata": {},
     "output_type": "display_data"
    },
    {
     "data": {
      "image/png": "[encoded data removed]",
      "text/plain": [
       "<Figure size 640x480 with 1 Axes>"
      ]
     },
     "metadata": {},
     "output_type": "display_data"
    },
    {
     "data": {
      "image/png": "[encoded data removed]",
      "text/plain": [
       "<Figure size 640x480 with 1 Axes>"
      ]
     },
     "metadata": {},
     "output_type": "display_data"
    },
    {
     "data": {
      "image/png": "[encoded data removed]",
      "text/plain": [
       "<Figure size 640x480 with 1 Axes>"
      ]
     },
     "metadata": {},
     "output_type": "display_data"
    },
    {
     "data": {
      "image/png": "[encoded data removed]",
      "text/plain": [
       "<Figure size 640x480 with 1 Axes>"
      ]
     },
     "metadata": {},
     "output_type": "display_data"
    },
    {
     "data": {
      "image/png": "[encoded data removed]",
      "text/plain": [
       "<Figure size 640x480 with 1 Axes>"
      ]
     },
     "metadata": {},
     "output_type": "display_data"
    },
    {
     "data": {
      "image/png": "[encoded data removed]",
      "text/plain": [
       "<Figure size 640x480 with 1 Axes>"
      ]
     },
     "metadata": {},
     "output_type": "display_data"
    }
   ],
   "source": [
    "from matplotlib import pyplot\n",
    "for i in range(9):  \n",
    "    pyplot.subplot(330 + 1 + i)\n",
    "    pyplot.imshow(challenging_images[i], cmap=pyplot.get_cmap('gray'))\n",
    "    pyplot.show()"
   ]
  }
 ],
 "metadata": {
  "kernelspec": {
   "display_name": "Python 3",
   "language": "python",
   "name": "python3"
  },
  "language_info": {
   "codemirror_mode": {
    "name": "ipython",
    "version": 3
   },
   "file_extension": ".py",
   "mimetype": "text/x-python",
   "name": "python",
   "nbconvert_exporter": "python",
   "pygments_lexer": "ipython3",
   "version": "3.10.6"
  },
  "orig_nbformat": 4,
  "vscode": {
   "interpreter": {
    "hash": "916dbcbb3f70747c44a77c7bcd40155683ae19c65e1c03b4aa3499c5328201f1"
   }
  }
 },
 "nbformat": 4,
 "nbformat_minor": 2
}
