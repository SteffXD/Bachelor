{
 "cells": [
  {
   "cell_type": "code",
   "execution_count": 1,
   "metadata": {},
   "outputs": [],
   "source": [
    "import numpy as np\n",
    "from tensorflow import keras\n",
    "from tensorflow.keras import layers\n",
    "from matplotlib import pyplot\n",
    "from keras import backend as K\n",
    "from keract import get_activations, display_activations\n",
    "from pymoo.algorithms.moo.nsga2 import NSGA2\n",
    "from pymoo.optimize import minimize\n",
    "from pymoo.operators.sampling.rnd import FloatRandomSampling\n",
    "from pymoo.operators.mutation.pm import PolynomialMutation\n",
    "from pymoo.operators.crossover.sbx import SBX\n",
    "from pymoo.core.problem import Problem, ElementwiseProblem\n",
    "import pandas as pd\n",
    "import random as rng"
   ]
  },
  {
   "cell_type": "code",
   "execution_count": 2,
   "metadata": {},
   "outputs": [
    {
     "name": "stdout",
     "output_type": "stream",
     "text": [
      "x_train shape: (60000, 28, 28, 1)\n",
      "60000 train samples\n",
      "10000 test samples\n"
     ]
    }
   ],
   "source": [
    "# Preparing the mnist dataset\n",
    "num_classes = 10\n",
    "input_shape = (28, 28, 1)\n",
    "\n",
    "(x_train, y_train), (x_test, y_test) = keras.datasets.mnist.load_data()\n",
    "\n",
    "x_train = x_train.astype(\"float32\") / 255\n",
    "x_test = x_test.astype(\"float32\") / 255\n",
    "\n",
    "x_train = np.expand_dims(x_train, -1)\n",
    "x_test = np.expand_dims(x_test, -1)\n",
    "\n",
    "print(\"x_train shape:\", x_train.shape)\n",
    "print(x_train.shape[0], \"train samples\")\n",
    "print(x_test.shape[0], \"test samples\")\n",
    "\n",
    "y_train = keras.utils.to_categorical(y_train, num_classes)\n",
    "y_test = keras.utils.to_categorical(y_test, num_classes)\n"
   ]
  },
  {
   "cell_type": "code",
   "execution_count": 3,
   "metadata": {},
   "outputs": [
    {
     "name": "stdout",
     "output_type": "stream",
     "text": [
      "Model: \"sequential\"\n",
      "_________________________________________________________________\n",
      " Layer (type)                Output Shape              Param #   \n",
      "=================================================================\n",
      " conv2d (Conv2D)             (None, 26, 26, 32)        320       \n",
      "                                                                 \n",
      " max_pooling2d (MaxPooling2D  (None, 13, 13, 32)       0         \n",
      " )                                                               \n",
      "                                                                 \n",
      " conv2d_1 (Conv2D)           (None, 11, 11, 64)        18496     \n",
      "                                                                 \n",
      " max_pooling2d_1 (MaxPooling  (None, 5, 5, 64)         0         \n",
      " 2D)                                                             \n",
      "                                                                 \n",
      " flatten (Flatten)           (None, 1600)              0         \n",
      "                                                                 \n",
      " dropout (Dropout)           (None, 1600)              0         \n",
      "                                                                 \n",
      " dense (Dense)               (None, 10)                16010     \n",
      "                                                                 \n",
      "=================================================================\n",
      "Total params: 34,826\n",
      "Trainable params: 34,826\n",
      "Non-trainable params: 0\n",
      "_________________________________________________________________\n"
     ]
    }
   ],
   "source": [
    "# Building the model\n",
    "\n",
    "model = keras.Sequential(\n",
    "    [\n",
    "        keras.Input(shape=input_shape),\n",
    "        layers.Conv2D(32, kernel_size=(3, 3), activation=\"relu\"),\n",
    "        layers.MaxPooling2D(pool_size=(2, 2)),\n",
    "        layers.Conv2D(64, kernel_size=(3, 3), activation=\"relu\"),\n",
    "        layers.MaxPooling2D(pool_size=(2, 2)),\n",
    "        layers.Flatten(),\n",
    "        layers.Dropout(0.5),\n",
    "        layers.Dense(num_classes, activation=\"softmax\"),\n",
    "    ]\n",
    ")\n",
    "\n",
    "model.summary()\n"
   ]
  },
  {
   "cell_type": "code",
   "execution_count": 4,
   "metadata": {},
   "outputs": [
    {
     "name": "stdout",
     "output_type": "stream",
     "text": [
      "Epoch 1/15\n",
      "422/422 [==============================] - 9s 19ms/step - loss: 0.3649 - accuracy: 0.8891 - val_loss: 0.0783 - val_accuracy: 0.9780\n",
      "Epoch 2/15\n",
      "422/422 [==============================] - 8s 18ms/step - loss: 0.1132 - accuracy: 0.9655 - val_loss: 0.0655 - val_accuracy: 0.9817\n",
      "Epoch 3/15\n",
      "422/422 [==============================] - 8s 18ms/step - loss: 0.0854 - accuracy: 0.9735 - val_loss: 0.0486 - val_accuracy: 0.9877\n",
      "Epoch 4/15\n",
      "422/422 [==============================] - 8s 18ms/step - loss: 0.0714 - accuracy: 0.9777 - val_loss: 0.0428 - val_accuracy: 0.9865\n",
      "Epoch 5/15\n",
      "422/422 [==============================] - 8s 18ms/step - loss: 0.0633 - accuracy: 0.9802 - val_loss: 0.0384 - val_accuracy: 0.9892\n",
      "Epoch 6/15\n",
      "422/422 [==============================] - 8s 18ms/step - loss: 0.0558 - accuracy: 0.9825 - val_loss: 0.0363 - val_accuracy: 0.9903\n",
      "Epoch 7/15\n",
      "422/422 [==============================] - 8s 18ms/step - loss: 0.0503 - accuracy: 0.9847 - val_loss: 0.0358 - val_accuracy: 0.9897\n",
      "Epoch 8/15\n",
      "422/422 [==============================] - 8s 19ms/step - loss: 0.0493 - accuracy: 0.9846 - val_loss: 0.0326 - val_accuracy: 0.9915\n",
      "Epoch 9/15\n",
      "422/422 [==============================] - 8s 18ms/step - loss: 0.0452 - accuracy: 0.9857 - val_loss: 0.0333 - val_accuracy: 0.9913\n",
      "Epoch 10/15\n",
      "422/422 [==============================] - 8s 19ms/step - loss: 0.0418 - accuracy: 0.9871 - val_loss: 0.0331 - val_accuracy: 0.9908\n",
      "Epoch 11/15\n",
      "422/422 [==============================] - 8s 18ms/step - loss: 0.0403 - accuracy: 0.9871 - val_loss: 0.0318 - val_accuracy: 0.9915\n",
      "Epoch 12/15\n",
      "422/422 [==============================] - 8s 18ms/step - loss: 0.0388 - accuracy: 0.9875 - val_loss: 0.0301 - val_accuracy: 0.9912\n",
      "Epoch 13/15\n",
      "422/422 [==============================] - 8s 18ms/step - loss: 0.0353 - accuracy: 0.9881 - val_loss: 0.0301 - val_accuracy: 0.9920\n",
      "Epoch 14/15\n",
      "422/422 [==============================] - 8s 18ms/step - loss: 0.0350 - accuracy: 0.9888 - val_loss: 0.0297 - val_accuracy: 0.9917\n",
      "Epoch 15/15\n",
      "422/422 [==============================] - 8s 18ms/step - loss: 0.0314 - accuracy: 0.9895 - val_loss: 0.0280 - val_accuracy: 0.9925\n"
     ]
    },
    {
     "data": {
      "text/plain": [
       "<keras.callbacks.History at 0x1a18ef40130>"
      ]
     },
     "execution_count": 4,
     "metadata": {},
     "output_type": "execute_result"
    }
   ],
   "source": [
    "# Training the model\n",
    "\n",
    "batch_size = 128\n",
    "epochs = 15\n",
    "\n",
    "model.compile(loss=\"categorical_crossentropy\", optimizer=\"adam\", metrics=[\"accuracy\"])\n",
    "\n",
    "model.fit(x_train, y_train, batch_size=batch_size, epochs=epochs, validation_split=0.1)"
   ]
  },
  {
   "cell_type": "code",
   "execution_count": 23,
   "metadata": {},
   "outputs": [
    {
     "name": "stdout",
     "output_type": "stream",
     "text": [
      "NAC:  0.2943627822397333\n"
     ]
    }
   ],
   "source": [
    "# score = model.evaluate(x_test, y_test, verbose=0)\n",
    "\n",
    "### NAC Implementation 1 ###\n",
    "\n",
    "# nodes = 0\n",
    "# non_zero_nodes = 0\n",
    "\n",
    "# for n in range(0, len(model.layers)):\n",
    "#     get_nth_layer_output = K.function([model.layers[0].input], [model.layers[n].output])\n",
    "#     layer_output = get_nth_layer_output([x_test])[0]\n",
    "#     nodes += layer_output.size\n",
    "#     non_zero_nodes += np.count_nonzero(layer_output)\n",
    "\n",
    "\n",
    "# neuron_coverage = non_zero_nodes / nodes\n",
    "\n",
    "# print(\"Neuron coverage:\", neuron_coverage)\n",
    "\n",
    "### NAC Implementation 2 ###\n",
    "\n",
    "def Neuron_Activation_Coverage(model, input_img):\n",
    "    \n",
    "    if len(input_img.shape) < 4:\n",
    "        input_img = np.expand_dims(input_img, axis=0)\n",
    "\n",
    "    activations = get_activations(model, input_img, auto_compile=True)\n",
    "    del activations[\"input_1\"]\n",
    "\n",
    "    total_nodes = 0\n",
    "    non_zeros = 0\n",
    "    for value in activations.values():\n",
    "        total_nodes += value.size\n",
    "        non_zeros += np.count_nonzero(value)\n",
    "\n",
    "    return non_zeros / total_nodes\n",
    "\n",
    "nac = Neuron_Activation_Coverage(model, x_test[0])\n",
    "\n",
    "print(\"NAC: \", nac)\n"
   ]
  },
  {
   "cell_type": "code",
   "execution_count": 6,
   "metadata": {},
   "outputs": [],
   "source": [
    "# Problem class for NSGA\n",
    "class NCMax(ElementwiseProblem):\n",
    "    def __init__(self, input_img):\n",
    "        super().__init__(\n",
    "            n_var=784, n_obj=1, n_constr=3, xl=0.0, xu=1.0)\n",
    "        self.input_img = input_img\n",
    "    \n",
    "    def _evaluate(self, x, out, *args, **kwargs):\n",
    "        x = np.reshape(x, (28, 28, 1))\n",
    "        perturbed_img = self.input_img + x\n",
    "        nc = Neuron_Activation_Coverage(model, perturbed_img)\n",
    "        ret_val = 1.0 / nc\n",
    "        out[\"F\"] = ret_val\n",
    "        constr1 = np.sum(np.abs(x)) - 80.0\n",
    "        constr2 = np.sqrt(np.sum(np.square(x))) - 5.0\n",
    "        constr3 = x.max() - 0.8\n",
    "        out[\"G\"] = np.column_stack([constr1, constr2, constr3])\n",
    "\n",
    "alg = NSGA2(pop_size = 100, offsprings=100,\n",
    "            sampling=FloatRandomSampling(),\n",
    "            crossovers=SBX(),\n",
    "            mutation=PolynomialMutation(),)\n",
    "\n",
    "challenging_images = np.zeros(shape=(10000, 28, 28, 1))\n",
    "\n",
    "random_indexes = rng.sample(range(0, 10000), 100)\n",
    "\n",
    "# Applying NSGA to images / a random image\n",
    "for i in range(0, 1):\n",
    "    problem = NCMax(x_test[random_indexes[i]])\n",
    "    \n",
    "    res = minimize(problem, alg, (\"n_gen\", 200), least_feasible_solution=False, save_history=True)\n",
    "    if res.X.size > 784:                             # Sometimes the result object contains more than one element, if that's the case we simply pick one of them.\n",
    "        noise = np.reshape(res.X[0], (28, 28, 1))\n",
    "    else:\n",
    "        noise = np.reshape(res.X, (28, 28, 1))\n",
    "\n",
    "    challenging_img = x_test[random_indexes[i]] + noise\n",
    "    challenging_images[i] = challenging_img\n",
    "\n",
    "x_test_nacs = []\n",
    "challenging_images_nacs = []\n",
    "absolute_increase = []\n",
    "relative_increase = []\n",
    "\n",
    "# Calculates NAC for image(s) pre and post nsga\n",
    "for i in range(0, 1):\n",
    "    pre_NSGA = Neuron_Activation_Coverage(model, x_test[random_indexes[i]])\n",
    "    post_NSGA = Neuron_Activation_Coverage(model, challenging_images[i])\n",
    "    x_test_nacs.append(pre_NSGA)\n",
    "    challenging_images_nacs.append(post_NSGA)\n",
    "    absolute_increase.append(post_NSGA - pre_NSGA)\n",
    "    relative_increase.append((post_NSGA - pre_NSGA) / pre_NSGA) \n",
    "    "
   ]
  },
  {
   "cell_type": "code",
   "execution_count": 8,
   "metadata": {},
   "outputs": [
    {
     "name": "stdout",
     "output_type": "stream",
     "text": [
      "   Normal Images  Challenging Images  Absolute Increase  Relative Increase\n",
      "0       0.302041            0.454917           0.152877           0.506146\n"
     ]
    }
   ],
   "source": [
    "# Converts data to a more readable format\n",
    "dataset = {\n",
    "    \"Normal Images\": x_test_nacs,\n",
    "    \"Challenging Images\": challenging_images_nacs,\n",
    "    \"Absolute Increase\": absolute_increase,\n",
    "    \"Relative Increase\": relative_increase\n",
    "}\n",
    "\n",
    "table = pd.DataFrame(dataset)\n",
    "print(table)\n",
    "# table.index += 1\n",
    "\n",
    "# table.to_excel(\"temp.xlsx\")"
   ]
  },
  {
   "cell_type": "code",
   "execution_count": 9,
   "metadata": {},
   "outputs": [
    {
     "data": {
      "image/png": "[encoded data removed]",
      "text/plain": [
       "<Figure size 640x480 with 1 Axes>"
      ]
     },
     "metadata": {},
     "output_type": "display_data"
    },
    {
     "data": {
      "image/png": "[encoded data removed]",
      "text/plain": [
       "<Figure size 640x480 with 1 Axes>"
      ]
     },
     "metadata": {},
     "output_type": "display_data"
    }
   ],
   "source": [
    "# Post NSGA image\n",
    "pyplot.subplot(330 + 1)\n",
    "pyplot.imshow(challenging_images[0], cmap=pyplot.get_cmap('gray'))\n",
    "pyplot.show()\n",
    "\n",
    "# Pre NSGA image\n",
    "pyplot.subplot(330 + 1)\n",
    "pyplot.imshow(x_test[random_indexes[0]], cmap=pyplot.get_cmap('gray'))\n",
    "pyplot.show()"
   ]
  }
 ],
 "metadata": {
  "kernelspec": {
   "display_name": "Python 3",
   "language": "python",
   "name": "python3"
  },
  "language_info": {
   "codemirror_mode": {
    "name": "ipython",
    "version": 3
   },
   "file_extension": ".py",
   "mimetype": "text/x-python",
   "name": "python",
   "nbconvert_exporter": "python",
   "pygments_lexer": "ipython3",
   "version": "3.10.9"
  },
  "orig_nbformat": 4,
  "vscode": {
   "interpreter": {
    "hash": "8b1dbd53e6c89629338dd6a41cab029ea9843e623d8a89070fefc79d18599eab"
   }
  }
 },
 "nbformat": 4,
 "nbformat_minor": 2
}
