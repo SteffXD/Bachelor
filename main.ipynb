{
 "cells": [
  {
   "cell_type": "code",
   "execution_count": 20,
   "metadata": {},
   "outputs": [],
   "source": [
    "import numpy as np\n",
    "from tensorflow import keras\n",
    "from tensorflow.keras import layers\n",
    "from matplotlib import pyplot\n",
    "from keras import backend as K\n",
    "from keract import get_activations, display_activations\n",
    "from pymoo.algorithms.moo.nsga2 import NSGA2\n",
    "from pymoo.optimize import minimize\n",
    "from pymoo.operators.sampling.rnd import FloatRandomSampling\n",
    "from pymoo.operators.mutation.pm import PolynomialMutation\n",
    "from pymoo.operators.crossover.sbx import SBX\n",
    "from pymoo.core.problem import Problem, ElementwiseProblem\n",
    "import pandas as pd\n",
    "import random as rng"
   ]
  },
  {
   "cell_type": "code",
   "execution_count": 2,
   "metadata": {},
   "outputs": [
    {
     "name": "stdout",
     "output_type": "stream",
     "text": [
      "Downloading data from https://storage.googleapis.com/tensorflow/tf-keras-datasets/mnist.npz\n",
      "11490434/11490434 [==============================] - 1s 0us/step\n",
      "x_train shape: (60000, 28, 28, 1)\n",
      "60000 train samples\n",
      "10000 test samples\n"
     ]
    }
   ],
   "source": [
    "# Model / data parameters\n",
    "num_classes = 10\n",
    "input_shape = (28, 28, 1)\n",
    "\n",
    "# Load the data and split it between train and test sets\n",
    "(x_train, y_train), (x_test, y_test) = keras.datasets.mnist.load_data()\n",
    "\n",
    "# Scale images to the [0, 1] range\n",
    "x_train = x_train.astype(\"float32\") / 255\n",
    "x_test = x_test.astype(\"float32\") / 255\n",
    "# Make sure images have shape (28, 28, 1)\n",
    "x_train = np.expand_dims(x_train, -1)\n",
    "x_test = np.expand_dims(x_test, -1)\n",
    "print(\"x_train shape:\", x_train.shape)\n",
    "print(x_train.shape[0], \"train samples\")\n",
    "print(x_test.shape[0], \"test samples\")\n",
    "\n",
    "\n",
    "# convert class vectors to binary class matrices\n",
    "y_train = keras.utils.to_categorical(y_train, num_classes)\n",
    "y_test = keras.utils.to_categorical(y_test, num_classes)\n"
   ]
  },
  {
   "cell_type": "code",
   "execution_count": 3,
   "metadata": {},
   "outputs": [
    {
     "name": "stdout",
     "output_type": "stream",
     "text": [
      "Model: \"sequential\"\n",
      "_________________________________________________________________\n",
      " Layer (type)                Output Shape              Param #   \n",
      "=================================================================\n",
      " conv2d (Conv2D)             (None, 26, 26, 32)        320       \n",
      "                                                                 \n",
      " max_pooling2d (MaxPooling2D  (None, 13, 13, 32)       0         \n",
      " )                                                               \n",
      "                                                                 \n",
      " conv2d_1 (Conv2D)           (None, 11, 11, 64)        18496     \n",
      "                                                                 \n",
      " max_pooling2d_1 (MaxPooling  (None, 5, 5, 64)         0         \n",
      " 2D)                                                             \n",
      "                                                                 \n",
      " flatten (Flatten)           (None, 1600)              0         \n",
      "                                                                 \n",
      " dropout (Dropout)           (None, 1600)              0         \n",
      "                                                                 \n",
      " dense (Dense)               (None, 10)                16010     \n",
      "                                                                 \n",
      "=================================================================\n",
      "Total params: 34,826\n",
      "Trainable params: 34,826\n",
      "Non-trainable params: 0\n",
      "_________________________________________________________________\n"
     ]
    }
   ],
   "source": [
    "model = keras.Sequential(\n",
    "    [\n",
    "        keras.Input(shape=input_shape),\n",
    "        layers.Conv2D(32, kernel_size=(3, 3), activation=\"relu\"),\n",
    "        layers.MaxPooling2D(pool_size=(2, 2)),\n",
    "        layers.Conv2D(64, kernel_size=(3, 3), activation=\"relu\"),\n",
    "        layers.MaxPooling2D(pool_size=(2, 2)),\n",
    "        layers.Flatten(),\n",
    "        layers.Dropout(0.5),\n",
    "        layers.Dense(num_classes, activation=\"softmax\"),\n",
    "    ]\n",
    ")\n",
    "\n",
    "model.summary()\n"
   ]
  },
  {
   "cell_type": "code",
   "execution_count": 4,
   "metadata": {},
   "outputs": [
    {
     "name": "stdout",
     "output_type": "stream",
     "text": [
      "Epoch 1/15\n",
      "422/422 [==============================] - 9s 19ms/step - loss: 0.3823 - accuracy: 0.8847 - val_loss: 0.0899 - val_accuracy: 0.9758\n",
      "Epoch 2/15\n",
      "422/422 [==============================] - 8s 19ms/step - loss: 0.1127 - accuracy: 0.9654 - val_loss: 0.0577 - val_accuracy: 0.9847\n",
      "Epoch 3/15\n",
      "422/422 [==============================] - 8s 18ms/step - loss: 0.0844 - accuracy: 0.9739 - val_loss: 0.0441 - val_accuracy: 0.9888\n",
      "Epoch 4/15\n",
      "422/422 [==============================] - 8s 19ms/step - loss: 0.0714 - accuracy: 0.9776 - val_loss: 0.0391 - val_accuracy: 0.9905\n",
      "Epoch 5/15\n",
      "422/422 [==============================] - 8s 19ms/step - loss: 0.0613 - accuracy: 0.9810 - val_loss: 0.0392 - val_accuracy: 0.9885\n",
      "Epoch 6/15\n",
      "422/422 [==============================] - 8s 19ms/step - loss: 0.0559 - accuracy: 0.9826 - val_loss: 0.0334 - val_accuracy: 0.9910\n",
      "Epoch 7/15\n",
      "422/422 [==============================] - 8s 19ms/step - loss: 0.0506 - accuracy: 0.9837 - val_loss: 0.0338 - val_accuracy: 0.9912\n",
      "Epoch 8/15\n",
      "422/422 [==============================] - 8s 19ms/step - loss: 0.0473 - accuracy: 0.9848 - val_loss: 0.0332 - val_accuracy: 0.9908\n",
      "Epoch 9/15\n",
      "422/422 [==============================] - 8s 19ms/step - loss: 0.0424 - accuracy: 0.9869 - val_loss: 0.0300 - val_accuracy: 0.9912\n",
      "Epoch 10/15\n",
      "422/422 [==============================] - 8s 19ms/step - loss: 0.0408 - accuracy: 0.9874 - val_loss: 0.0324 - val_accuracy: 0.9915\n",
      "Epoch 11/15\n",
      "422/422 [==============================] - 8s 19ms/step - loss: 0.0393 - accuracy: 0.9875 - val_loss: 0.0291 - val_accuracy: 0.9913\n",
      "Epoch 12/15\n",
      "422/422 [==============================] - 8s 19ms/step - loss: 0.0378 - accuracy: 0.9877 - val_loss: 0.0285 - val_accuracy: 0.9918\n",
      "Epoch 13/15\n",
      "422/422 [==============================] - 8s 19ms/step - loss: 0.0349 - accuracy: 0.9884 - val_loss: 0.0291 - val_accuracy: 0.9918\n",
      "Epoch 14/15\n",
      "422/422 [==============================] - 8s 19ms/step - loss: 0.0345 - accuracy: 0.9889 - val_loss: 0.0271 - val_accuracy: 0.9933\n",
      "Epoch 15/15\n",
      "422/422 [==============================] - 8s 19ms/step - loss: 0.0335 - accuracy: 0.9891 - val_loss: 0.0271 - val_accuracy: 0.9927\n"
     ]
    },
    {
     "data": {
      "text/plain": [
       "<keras.callbacks.History at 0x2ed691867f0>"
      ]
     },
     "execution_count": 4,
     "metadata": {},
     "output_type": "execute_result"
    }
   ],
   "source": [
    "batch_size = 128\n",
    "epochs = 15\n",
    "\n",
    "model.compile(loss=\"categorical_crossentropy\", optimizer=\"adam\", metrics=[\"accuracy\"])\n",
    "\n",
    "model.fit(x_train, y_train, batch_size=batch_size, epochs=epochs, validation_split=0.1)\n"
   ]
  },
  {
   "cell_type": "code",
   "execution_count": 6,
   "metadata": {},
   "outputs": [
    {
     "name": "stdout",
     "output_type": "stream",
     "text": [
      "NAC:  0.27350103551043087\n"
     ]
    }
   ],
   "source": [
    "score = model.evaluate(x_test, y_test, verbose=0)\n",
    "\n",
    "# nodes = 0\n",
    "# non_zero_nodes = 0\n",
    "\n",
    "# for n in range(0, len(model.layers)):\n",
    "#     get_nth_layer_output = K.function([model.layers[0].input], [model.layers[n].output])\n",
    "#     layer_output = get_nth_layer_output([x_test])[0]\n",
    "#     nodes += layer_output.size\n",
    "#     non_zero_nodes += np.count_nonzero(layer_output)\n",
    "\n",
    "\n",
    "# neuron_coverage = non_zero_nodes / nodes\n",
    "\n",
    "# print(\"Neuron coverage:\", neuron_coverage)\n",
    "\n",
    "#******************************************************************************************************************#\n",
    "#******************************************************************************************************************#\n",
    "#******************************************************************************************************************#\n",
    "#******************************************************************************************************************#\n",
    "\n",
    "def Neuron_Activation_Coverage(model, input_img):\n",
    "    \n",
    "    if len(input_img.shape) < 4:\n",
    "        input_img = np.expand_dims(input_img, axis=0)\n",
    "\n",
    "    activations = get_activations(model, input_img, auto_compile=True)\n",
    "    del activations[\"input_1\"]\n",
    "\n",
    "    total_nodes = 0\n",
    "    non_zeros = 0\n",
    "    for value in activations.values():\n",
    "        total_nodes += value.size\n",
    "        non_zeros += np.count_nonzero(value)\n",
    "\n",
    "    return non_zeros / total_nodes\n",
    "\n",
    "nac = Neuron_Activation_Coverage(model, x_test[0])\n",
    "\n",
    "print(\"NAC: \", nac)\n",
    "    \n",
    "# [print(k, '->', v.shape, '- Numpy array') for (k, v) in activations.items()]\n",
    "\n",
    "# display_activations(activations, cmap=None, save=False, directory='.', data_format='channels_last', fig_size=(24, 24), reshape_1d_layers=False)\n"
   ]
  },
  {
   "cell_type": "code",
   "execution_count": 42,
   "metadata": {},
   "outputs": [],
   "source": [
    "class NCMax(ElementwiseProblem):\n",
    "    def __init__(self, input_img):\n",
    "        super().__init__(\n",
    "            n_var=784, n_obj=1, n_constr=0, xl=0.0, xu=1.0)\n",
    "        self.input_img = input_img\n",
    "    \n",
    "    def _evaluate(self, x, out, *args, **kwargs):\n",
    "        x = np.reshape(x, (28, 28, 1))\n",
    "        perturbed_img = self.input_img + x\n",
    "        nc = Neuron_Activation_Coverage(model, perturbed_img)\n",
    "        ret_val = 1.0 / nc\n",
    "        out[\"F\"] = ret_val\n",
    "\n",
    "alg = NSGA2(pop_size = 30, offsprings=30,\n",
    "            sampling=FloatRandomSampling(),\n",
    "            crossovers=SBX(),\n",
    "            mutation=PolynomialMutation(),)\n",
    "\n",
    "challenging_images = np.zeros(shape=(10000, 28, 28, 1))\n",
    "\n",
    "random_indexes = rng.sample(range(0, 10000), 100)\n",
    "\n",
    "for i in range(0, 100):\n",
    "    problem = NCMax(x_test[random_indexes[i]])\n",
    "    \n",
    "    res = minimize(problem, alg, (\"n_gen\", 5))\n",
    "    if res.X.size > 784:\n",
    "        noise = np.reshape(res.X[0], (28, 28, 1))\n",
    "    else:\n",
    "        noise = np.reshape(res.X, (28, 28, 1))\n",
    "\n",
    "    challenging_img = x_test[random_indexes[i]] + noise\n",
    "    challenging_images[i] = challenging_img\n",
    "\n",
    "x_test_nacs = []\n",
    "challenging_images_nacs = []\n",
    "absolute_increase = []\n",
    "relative_increase = []\n",
    "\n",
    "for i in range(0, 100):\n",
    "    pre_NSGA = Neuron_Activation_Coverage(model, x_test[random_indexes[i]])\n",
    "    post_NSGA = Neuron_Activation_Coverage(model, challenging_images[i])\n",
    "    x_test_nacs.append(pre_NSGA)\n",
    "    challenging_images_nacs.append(post_NSGA)\n",
    "    absolute_increase.append(post_NSGA - pre_NSGA)\n",
    "    relative_increase.append((post_NSGA - pre_NSGA) / pre_NSGA)\n",
    "    "
   ]
  },
  {
   "cell_type": "code",
   "execution_count": 43,
   "metadata": {},
   "outputs": [],
   "source": [
    "dataset = {\n",
    "    \"Normal Images\": x_test_nacs,\n",
    "    \"Challenging Images\": challenging_images_nacs,\n",
    "    \"Absolute Increase\": absolute_increase,\n",
    "    \"Relative Increase\": relative_increase\n",
    "}\n",
    "\n",
    "table = pd.DataFrame(dataset)\n",
    "table.index += 1\n",
    "\n",
    "table.to_excel(\"temp.xlsx\")"
   ]
  },
  {
   "cell_type": "code",
   "execution_count": 33,
   "metadata": {},
   "outputs": [],
   "source": [
    "# for i in range(9):  \n",
    "#     pyplot.subplot(330 + 1 + i)\n",
    "#     pyplot.imshow(challenging_images[0], cmap=pyplot.get_cmap('gray'))\n",
    "#     pyplot.show()"
   ]
  },
  {
   "cell_type": "code",
   "execution_count": 46,
   "metadata": {},
   "outputs": [
    {
     "data": {
      "image/png": "[encoded data removed]",
      "text/plain": [
       "<Figure size 640x480 with 1 Axes>"
      ]
     },
     "metadata": {},
     "output_type": "display_data"
    },
    {
     "data": {
      "image/png": "[encoded data removed]",
      "text/plain": [
       "<Figure size 640x480 with 1 Axes>"
      ]
     },
     "metadata": {},
     "output_type": "display_data"
    }
   ],
   "source": [
    "pyplot.subplot(330 + 1)\n",
    "pyplot.imshow(challenging_images[67], cmap=pyplot.get_cmap('gray'))\n",
    "pyplot.show()\n",
    "\n",
    "pyplot.subplot(330 + 1)\n",
    "pyplot.imshow(x_test[random_indexes[67]], cmap=pyplot.get_cmap('gray'))\n",
    "pyplot.show()"
   ]
  }
 ],
 "metadata": {
  "kernelspec": {
   "display_name": "Python 3.8.2 64-bit",
   "language": "python",
   "name": "python3"
  },
  "language_info": {
   "codemirror_mode": {
    "name": "ipython",
    "version": 3
   },
   "file_extension": ".py",
   "mimetype": "text/x-python",
   "name": "python",
   "nbconvert_exporter": "python",
   "pygments_lexer": "ipython3",
   "version": "3.8.2"
  },
  "orig_nbformat": 4,
  "vscode": {
   "interpreter": {
    "hash": "570feb405e2e27c949193ac68f46852414290d515b0ba6e5d90d076ed2284471"
   }
  }
 },
 "nbformat": 4,
 "nbformat_minor": 2
}
